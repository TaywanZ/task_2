{
 "cells": [
  {
   "cell_type": "markdown",
   "id": "81c0ecc3",
   "metadata": {},
   "source": [
    "# Тестовое задание\n",
    "\n",
    "**Выполнил**: Коренев Михаил Михайлович\n",
    "\n",
    "**Контакты:**\n",
    "\n",
    "    Telegram: @TaywanZ"
   ]
  },
  {
   "cell_type": "markdown",
   "id": "21b03545",
   "metadata": {},
   "source": [
    "<a id=\"0\"></a> <br>\n",
    "## Оглавление\n",
    "1. [Начало работы. Оптимизация памяти.](#1)     \n",
    "2. [Задача №1](#2) \n",
    "3. [Задача №2](#3) \n",
    "4. [Задача №3](#4)      \n",
    "5. [Задача №4](#5)     \n",
    "6. [Задача №5](#6)      \n",
    "7. [Задача №6](#7)       \n"
   ]
  },
  {
   "cell_type": "markdown",
   "id": "e22e593b",
   "metadata": {},
   "source": [
    "<a id=\"1\"></a>\n",
    "### Начало работы. Оптимизация памяти."
   ]
  },
  {
   "cell_type": "markdown",
   "id": "8d2f5dfa",
   "metadata": {},
   "source": [
    "Произведем импорт необходимых библиотек, и данных. "
   ]
  },
  {
   "cell_type": "code",
   "execution_count": 1,
   "id": "0ce92e95",
   "metadata": {},
   "outputs": [],
   "source": [
    "import pandas as pd\n",
    "import numpy as np\n",
    "import re"
   ]
  },
  {
   "cell_type": "code",
   "execution_count": 2,
   "id": "9f784118",
   "metadata": {},
   "outputs": [],
   "source": [
    "pd.set_option('display.max_columns', None)"
   ]
  },
  {
   "cell_type": "code",
   "execution_count": 3,
   "id": "61a829ee",
   "metadata": {
    "scrolled": true
   },
   "outputs": [
    {
     "name": "stderr",
     "output_type": "stream",
     "text": [
      "C:\\Users\\taywa\\anaconda3\\lib\\site-packages\\IPython\\core\\interactiveshell.py:3444: DtypeWarning: Columns (6,14) have mixed types.Specify dtype option on import or set low_memory=False.\n",
      "  exec(code_obj, self.user_global_ns, self.user_ns)\n"
     ]
    }
   ],
   "source": [
    "df = pd.read_csv('liquor.csv')"
   ]
  },
  {
   "cell_type": "code",
   "execution_count": 4,
   "id": "2af2e0a3",
   "metadata": {},
   "outputs": [
    {
     "data": {
      "text/html": [
       "<div>\n",
       "<style scoped>\n",
       "    .dataframe tbody tr th:only-of-type {\n",
       "        vertical-align: middle;\n",
       "    }\n",
       "\n",
       "    .dataframe tbody tr th {\n",
       "        vertical-align: top;\n",
       "    }\n",
       "\n",
       "    .dataframe thead th {\n",
       "        text-align: right;\n",
       "    }\n",
       "</style>\n",
       "<table border=\"1\" class=\"dataframe\">\n",
       "  <thead>\n",
       "    <tr style=\"text-align: right;\">\n",
       "      <th></th>\n",
       "      <th>Invoice/Item Number</th>\n",
       "      <th>Date</th>\n",
       "      <th>Store Number</th>\n",
       "      <th>Store Name</th>\n",
       "      <th>Address</th>\n",
       "      <th>City</th>\n",
       "      <th>Zip Code</th>\n",
       "      <th>Store Location</th>\n",
       "      <th>County Number</th>\n",
       "      <th>County</th>\n",
       "      <th>Category</th>\n",
       "      <th>Category Name</th>\n",
       "      <th>Vendor Number</th>\n",
       "      <th>Vendor Name</th>\n",
       "      <th>Item Number</th>\n",
       "      <th>Item Description</th>\n",
       "      <th>Pack</th>\n",
       "      <th>Bottle Volume (ml)</th>\n",
       "      <th>State Bottle Cost</th>\n",
       "      <th>State Bottle Retail</th>\n",
       "      <th>Bottles Sold</th>\n",
       "      <th>Sale (Dollars)</th>\n",
       "      <th>Volume Sold (Liters)</th>\n",
       "      <th>Volume Sold (Gallons)</th>\n",
       "    </tr>\n",
       "  </thead>\n",
       "  <tbody>\n",
       "    <tr>\n",
       "      <th>0</th>\n",
       "      <td>INV-35316400118</td>\n",
       "      <td>03/25/2021</td>\n",
       "      <td>3385</td>\n",
       "      <td>Sam's Club 8162 / Cedar Rapids</td>\n",
       "      <td>2605 Blairs Ferry Rd NE</td>\n",
       "      <td>Cedar Rapids</td>\n",
       "      <td>52402</td>\n",
       "      <td>POINT (-91.67969 42.031819)</td>\n",
       "      <td>57.0</td>\n",
       "      <td>LINN</td>\n",
       "      <td>1091300.0</td>\n",
       "      <td>Neutral Grain Spirits Flavored</td>\n",
       "      <td>346.0</td>\n",
       "      <td>OLE SMOKY DISTILLERY LLC</td>\n",
       "      <td>76414</td>\n",
       "      <td>Ole Smoky Moonshine Pickles</td>\n",
       "      <td>6</td>\n",
       "      <td>750</td>\n",
       "      <td>12.50</td>\n",
       "      <td>18.75</td>\n",
       "      <td>12</td>\n",
       "      <td>225.00</td>\n",
       "      <td>9.0</td>\n",
       "      <td>2.37</td>\n",
       "    </tr>\n",
       "    <tr>\n",
       "      <th>1</th>\n",
       "      <td>INV-35294400059</td>\n",
       "      <td>03/24/2021</td>\n",
       "      <td>3390</td>\n",
       "      <td>Okoboji Avenue Liquor</td>\n",
       "      <td>1610 Okoboji Avenue</td>\n",
       "      <td>Milford</td>\n",
       "      <td>51351</td>\n",
       "      <td>POINT (-95.149955 43.331525)</td>\n",
       "      <td>30.0</td>\n",
       "      <td>DICKINSON</td>\n",
       "      <td>1012100.0</td>\n",
       "      <td>Canadian Whiskies</td>\n",
       "      <td>260.0</td>\n",
       "      <td>DIAGEO AMERICAS</td>\n",
       "      <td>10808</td>\n",
       "      <td>Crown Royal Regal Apple</td>\n",
       "      <td>12</td>\n",
       "      <td>1000</td>\n",
       "      <td>19.39</td>\n",
       "      <td>29.09</td>\n",
       "      <td>12</td>\n",
       "      <td>340.08</td>\n",
       "      <td>12.0</td>\n",
       "      <td>3.17</td>\n",
       "    </tr>\n",
       "    <tr>\n",
       "      <th>2</th>\n",
       "      <td>INV-35284000067</td>\n",
       "      <td>03/24/2021</td>\n",
       "      <td>2512</td>\n",
       "      <td>Hy-Vee Wine and Spirits / Iowa City</td>\n",
       "      <td>1720 Waterfront Dr</td>\n",
       "      <td>Iowa City</td>\n",
       "      <td>52240</td>\n",
       "      <td>POINT (-91.53046300000001 41.642764)</td>\n",
       "      <td>52.0</td>\n",
       "      <td>JOHNSON</td>\n",
       "      <td>1081300.0</td>\n",
       "      <td>American Cordials &amp; Liqueur</td>\n",
       "      <td>259.0</td>\n",
       "      <td>Heaven Hill Brands</td>\n",
       "      <td>76478</td>\n",
       "      <td>Pama Pomegranate Liqueur</td>\n",
       "      <td>6</td>\n",
       "      <td>750</td>\n",
       "      <td>10.00</td>\n",
       "      <td>15.00</td>\n",
       "      <td>24</td>\n",
       "      <td>359.76</td>\n",
       "      <td>18.0</td>\n",
       "      <td>4.75</td>\n",
       "    </tr>\n",
       "    <tr>\n",
       "      <th>3</th>\n",
       "      <td>INV-35306600020</td>\n",
       "      <td>03/25/2021</td>\n",
       "      <td>2528</td>\n",
       "      <td>Hy-Vee Food Store #3 / Des Moines</td>\n",
       "      <td>3221 SE 14th St</td>\n",
       "      <td>Des Moines</td>\n",
       "      <td>50315</td>\n",
       "      <td>NaN</td>\n",
       "      <td>77.0</td>\n",
       "      <td>POLK</td>\n",
       "      <td>1031100.0</td>\n",
       "      <td>American Vodkas</td>\n",
       "      <td>260.0</td>\n",
       "      <td>DIAGEO AMERICAS</td>\n",
       "      <td>36188</td>\n",
       "      <td>Gordons 80prf Vodka PET</td>\n",
       "      <td>6</td>\n",
       "      <td>1750</td>\n",
       "      <td>9.74</td>\n",
       "      <td>14.61</td>\n",
       "      <td>6</td>\n",
       "      <td>87.66</td>\n",
       "      <td>10.5</td>\n",
       "      <td>2.77</td>\n",
       "    </tr>\n",
       "    <tr>\n",
       "      <th>4</th>\n",
       "      <td>INV-35285000005</td>\n",
       "      <td>03/24/2021</td>\n",
       "      <td>3670</td>\n",
       "      <td>Wal-Mart 2827 / Coralville</td>\n",
       "      <td>2801 Commerce Dr</td>\n",
       "      <td>Coralville</td>\n",
       "      <td>52241</td>\n",
       "      <td>POINT (-91.610774 41.695806)</td>\n",
       "      <td>52.0</td>\n",
       "      <td>JOHNSON</td>\n",
       "      <td>1062200.0</td>\n",
       "      <td>White Rum</td>\n",
       "      <td>434.0</td>\n",
       "      <td>LUXCO INC</td>\n",
       "      <td>46350</td>\n",
       "      <td>Hawkeye Light Rum</td>\n",
       "      <td>6</td>\n",
       "      <td>1750</td>\n",
       "      <td>7.67</td>\n",
       "      <td>11.51</td>\n",
       "      <td>6</td>\n",
       "      <td>69.06</td>\n",
       "      <td>10.5</td>\n",
       "      <td>2.77</td>\n",
       "    </tr>\n",
       "  </tbody>\n",
       "</table>\n",
       "</div>"
      ],
      "text/plain": [
       "  Invoice/Item Number        Date  Store Number  \\\n",
       "0     INV-35316400118  03/25/2021          3385   \n",
       "1     INV-35294400059  03/24/2021          3390   \n",
       "2     INV-35284000067  03/24/2021          2512   \n",
       "3     INV-35306600020  03/25/2021          2528   \n",
       "4     INV-35285000005  03/24/2021          3670   \n",
       "\n",
       "                            Store Name                  Address          City  \\\n",
       "0       Sam's Club 8162 / Cedar Rapids  2605 Blairs Ferry Rd NE  Cedar Rapids   \n",
       "1                Okoboji Avenue Liquor      1610 Okoboji Avenue       Milford   \n",
       "2  Hy-Vee Wine and Spirits / Iowa City       1720 Waterfront Dr     Iowa City   \n",
       "3    Hy-Vee Food Store #3 / Des Moines          3221 SE 14th St    Des Moines   \n",
       "4           Wal-Mart 2827 / Coralville         2801 Commerce Dr    Coralville   \n",
       "\n",
       "  Zip Code                        Store Location  County Number     County  \\\n",
       "0    52402           POINT (-91.67969 42.031819)           57.0       LINN   \n",
       "1    51351          POINT (-95.149955 43.331525)           30.0  DICKINSON   \n",
       "2    52240  POINT (-91.53046300000001 41.642764)           52.0    JOHNSON   \n",
       "3    50315                                   NaN           77.0       POLK   \n",
       "4    52241          POINT (-91.610774 41.695806)           52.0    JOHNSON   \n",
       "\n",
       "    Category                   Category Name  Vendor Number  \\\n",
       "0  1091300.0  Neutral Grain Spirits Flavored          346.0   \n",
       "1  1012100.0               Canadian Whiskies          260.0   \n",
       "2  1081300.0     American Cordials & Liqueur          259.0   \n",
       "3  1031100.0                 American Vodkas          260.0   \n",
       "4  1062200.0                       White Rum          434.0   \n",
       "\n",
       "                Vendor Name Item Number             Item Description  Pack  \\\n",
       "0  OLE SMOKY DISTILLERY LLC       76414  Ole Smoky Moonshine Pickles     6   \n",
       "1           DIAGEO AMERICAS       10808      Crown Royal Regal Apple    12   \n",
       "2        Heaven Hill Brands       76478     Pama Pomegranate Liqueur     6   \n",
       "3           DIAGEO AMERICAS       36188      Gordons 80prf Vodka PET     6   \n",
       "4                 LUXCO INC       46350            Hawkeye Light Rum     6   \n",
       "\n",
       "   Bottle Volume (ml)  State Bottle Cost  State Bottle Retail  Bottles Sold  \\\n",
       "0                 750              12.50                18.75            12   \n",
       "1                1000              19.39                29.09            12   \n",
       "2                 750              10.00                15.00            24   \n",
       "3                1750               9.74                14.61             6   \n",
       "4                1750               7.67                11.51             6   \n",
       "\n",
       "   Sale (Dollars)  Volume Sold (Liters)  Volume Sold (Gallons)  \n",
       "0          225.00                   9.0                   2.37  \n",
       "1          340.08                  12.0                   3.17  \n",
       "2          359.76                  18.0                   4.75  \n",
       "3           87.66                  10.5                   2.77  \n",
       "4           69.06                  10.5                   2.77  "
      ]
     },
     "execution_count": 4,
     "metadata": {},
     "output_type": "execute_result"
    }
   ],
   "source": [
    "df.head()"
   ]
  },
  {
   "cell_type": "code",
   "execution_count": 5,
   "id": "89fb06e2",
   "metadata": {},
   "outputs": [
    {
     "name": "stdout",
     "output_type": "stream",
     "text": [
      "<class 'pandas.core.frame.DataFrame'>\n",
      "RangeIndex: 22284674 entries, 0 to 22284673\n",
      "Data columns (total 24 columns):\n",
      " #   Column                 Dtype  \n",
      "---  ------                 -----  \n",
      " 0   Invoice/Item Number    object \n",
      " 1   Date                   object \n",
      " 2   Store Number           int64  \n",
      " 3   Store Name             object \n",
      " 4   Address                object \n",
      " 5   City                   object \n",
      " 6   Zip Code               object \n",
      " 7   Store Location         object \n",
      " 8   County Number          float64\n",
      " 9   County                 object \n",
      " 10  Category               float64\n",
      " 11  Category Name          object \n",
      " 12  Vendor Number          float64\n",
      " 13  Vendor Name            object \n",
      " 14  Item Number            object \n",
      " 15  Item Description       object \n",
      " 16  Pack                   int64  \n",
      " 17  Bottle Volume (ml)     int64  \n",
      " 18  State Bottle Cost      float64\n",
      " 19  State Bottle Retail    float64\n",
      " 20  Bottles Sold           int64  \n",
      " 21  Sale (Dollars)         float64\n",
      " 22  Volume Sold (Liters)   float64\n",
      " 23  Volume Sold (Gallons)  float64\n",
      "dtypes: float64(8), int64(4), object(12)\n",
      "memory usage: 4.0+ GB\n"
     ]
    }
   ],
   "source": [
    "df.info()"
   ]
  },
  {
   "cell_type": "markdown",
   "id": "0a9bc6e3",
   "metadata": {},
   "source": [
    "В информации о фрейме данных видно, что фрейм потребляем большое колличество оперативной памяти. Произведем оптимизацию типов данных, чтобы уменьшить потребление памяти.\n",
    "\n",
    "Пропуски в численных данных будем заменять на значение **-1**."
   ]
  },
  {
   "cell_type": "code",
   "execution_count": 6,
   "id": "2293c995",
   "metadata": {},
   "outputs": [],
   "source": [
    "# Пройдемся по столбцам данных. \n",
    "\n",
    "for col in df.columns:\n",
    "\n",
    "# Там, где возможно, уменьшим потребление памяти путем уменьшения зарезервированной памяти.\n",
    "\n",
    "    if pd.api.types.is_int64_dtype(df[col]):\n",
    "        df[col] = df[col].fillna(-1)\n",
    "        df[col] = pd.to_numeric(df[col], downcast=\"integer\")\n",
    "    elif pd.api.types.is_float_dtype(df[col]):\n",
    "        df[col] = df[col].fillna(-1)\n",
    "        dt = df[col].astype('int64')\n",
    "\n",
    "# А так же преобразуем неверно распознаный тип данных с плавающей точкой в целочисленный тип.\n",
    "\n",
    "        if sum(dt == df[col]) == df.shape[0]:\n",
    "            df[col] = pd.to_numeric(df[col], downcast=\"integer\")\n",
    "        else:\n",
    "            df[col] = pd.to_numeric(df[col], downcast=\"float\")\n",
    "    elif pd.api.types.is_object_dtype(df[col]):\n",
    "        df[col]= df[col].astype('str')\n",
    "        df[col] = df[col].str.lower()"
   ]
  },
  {
   "cell_type": "code",
   "execution_count": 7,
   "id": "be0989a3",
   "metadata": {},
   "outputs": [
    {
     "name": "stdout",
     "output_type": "stream",
     "text": [
      "<class 'pandas.core.frame.DataFrame'>\n",
      "RangeIndex: 22284674 entries, 0 to 22284673\n",
      "Data columns (total 24 columns):\n",
      " #   Column                 Dtype  \n",
      "---  ------                 -----  \n",
      " 0   Invoice/Item Number    object \n",
      " 1   Date                   object \n",
      " 2   Store Number           int16  \n",
      " 3   Store Name             object \n",
      " 4   Address                object \n",
      " 5   City                   object \n",
      " 6   Zip Code               object \n",
      " 7   Store Location         object \n",
      " 8   County Number          int8   \n",
      " 9   County                 object \n",
      " 10  Category               int32  \n",
      " 11  Category Name          object \n",
      " 12  Vendor Number          int16  \n",
      " 13  Vendor Name            object \n",
      " 14  Item Number            object \n",
      " 15  Item Description       object \n",
      " 16  Pack                   int16  \n",
      " 17  Bottle Volume (ml)     int32  \n",
      " 18  State Bottle Cost      float32\n",
      " 19  State Bottle Retail    float32\n",
      " 20  Bottles Sold           int16  \n",
      " 21  Sale (Dollars)         float32\n",
      " 22  Volume Sold (Liters)   float32\n",
      " 23  Volume Sold (Gallons)  float32\n",
      "dtypes: float32(5), int16(4), int32(2), int8(1), object(12)\n",
      "memory usage: 2.8+ GB\n"
     ]
    }
   ],
   "source": [
    "df.info()"
   ]
  },
  {
   "cell_type": "markdown",
   "id": "a24dee1c",
   "metadata": {},
   "source": [
    "Благодаря произведенным операция, удалось уменьшить вес фрейма **с 4 до 2.8 Гб***.\n",
    "\n",
    "Теперь оптимизируем столбцы со смешанными типами данных."
   ]
  },
  {
   "cell_type": "code",
   "execution_count": 8,
   "id": "f45c5223",
   "metadata": {
    "scrolled": false
   },
   "outputs": [],
   "source": [
    "# Приведем дату в соответствующий формат.\n",
    "\n",
    "df['Date'] = pd.to_datetime(df['Date'], format='%m/%d/%Y')\n",
    "\n",
    "# Используем столбец Invoice/Item Number в качестве индексов.\n",
    "\n",
    "df = df.set_index('Invoice/Item Number')\n",
    "\n",
    "# Столбцы, где лежат данные, которые можно представить ввиде категорий, преобразуем в категориальные данные.\n",
    "\n",
    "df['Item Number'] = df['Item Number'].fillna(-1)\n",
    "df['Item Number'] = df['Item Number'].astype('category')\n",
    "df['City'] = df['City'].fillna(-1)\n",
    "df['City'] = df['City'].astype('category')\n",
    "df['County'] = df['County'].fillna(-1)\n",
    "df['County'] = df['County'].astype('category')\n",
    "df['Vendor Name'] = df['Vendor Name'].fillna(-1)\n",
    "df['Vendor Name'] = df['Vendor Name'].astype('category')\n",
    "\n",
    "# В столбцах, которые в будующем нужны будут для работы в строковом формате, заполним пропуски.\n",
    "\n",
    "df['Category Name'] = df['Category Name'].fillna(-1)\n",
    "df['Address'] = df['Address'].fillna(-1)"
   ]
  },
  {
   "cell_type": "code",
   "execution_count": 9,
   "id": "1afc6875",
   "metadata": {},
   "outputs": [
    {
     "name": "stdout",
     "output_type": "stream",
     "text": [
      "<class 'pandas.core.frame.DataFrame'>\n",
      "Index: 22284674 entries, inv-35316400118 to inv-35318200078\n",
      "Data columns (total 23 columns):\n",
      " #   Column                 Dtype         \n",
      "---  ------                 -----         \n",
      " 0   Date                   datetime64[ns]\n",
      " 1   Store Number           int16         \n",
      " 2   Store Name             object        \n",
      " 3   Address                object        \n",
      " 4   City                   category      \n",
      " 5   Zip Code               object        \n",
      " 6   Store Location         object        \n",
      " 7   County Number          int8          \n",
      " 8   County                 category      \n",
      " 9   Category               int32         \n",
      " 10  Category Name          object        \n",
      " 11  Vendor Number          int16         \n",
      " 12  Vendor Name            category      \n",
      " 13  Item Number            category      \n",
      " 14  Item Description       object        \n",
      " 15  Pack                   int16         \n",
      " 16  Bottle Volume (ml)     int32         \n",
      " 17  State Bottle Cost      float32       \n",
      " 18  State Bottle Retail    float32       \n",
      " 19  Bottles Sold           int16         \n",
      " 20  Sale (Dollars)         float32       \n",
      " 21  Volume Sold (Liters)   float32       \n",
      " 22  Volume Sold (Gallons)  float32       \n",
      "dtypes: category(4), datetime64[ns](1), float32(5), int16(4), int32(2), int8(1), object(6)\n",
      "memory usage: 2.2+ GB\n"
     ]
    }
   ],
   "source": [
    "df.info()"
   ]
  },
  {
   "cell_type": "markdown",
   "id": "6a46ddcf",
   "metadata": {},
   "source": [
    "В ходе оптимизации удалось уменьшить фрейм данных ещё на примерно 500 Мб.\n",
    "\n",
    "Итого, с начала оптимизации удалось сжать данные **с 4 Гб до 2.2 Гб**, а так же представить данные в удобных для работы с ними форматах."
   ]
  },
  {
   "cell_type": "markdown",
   "id": "a7ad8278",
   "metadata": {},
   "source": [
    "<a id=\"2\"></a>\n",
    "### Задача 1"
   ]
  },
  {
   "cell_type": "markdown",
   "id": "6afec58d",
   "metadata": {},
   "source": [
    "**Сколько всего срок в файле?**\n",
    "___\n",
    "\n",
    "Используем встроенную функцию Pandas, узнаем сколько строк в фрейме данных, это и будет ответ на вопрос."
   ]
  },
  {
   "cell_type": "code",
   "execution_count": 10,
   "id": "77ec1227",
   "metadata": {},
   "outputs": [
    {
     "name": "stdout",
     "output_type": "stream",
     "text": [
      "Ответ: 22284674\n"
     ]
    }
   ],
   "source": [
    "print('Ответ:', df.shape[0])"
   ]
  },
  {
   "cell_type": "markdown",
   "id": "90cd5414",
   "metadata": {},
   "source": [
    "<a id=\"3\"></a>\n",
    "### Задача 2"
   ]
  },
  {
   "cell_type": "markdown",
   "id": "6ee79706",
   "metadata": {},
   "source": [
    "**Какие временные рамки в наборе данных?**\n",
    "___\n",
    "С учетом того, что дата уже преобразована в нужный формат, воспользуемся встроеннными функциями и узнаем самую раннюю и самую позднюю даты."
   ]
  },
  {
   "cell_type": "code",
   "execution_count": 11,
   "id": "87ef6b11",
   "metadata": {},
   "outputs": [
    {
     "name": "stdout",
     "output_type": "stream",
     "text": [
      "Ответ: с 2012-01-03 до 2021-09-30\n"
     ]
    }
   ],
   "source": [
    "print('Ответ: с', df['Date'].min().date(), 'до', df['Date'].max().date())"
   ]
  },
  {
   "cell_type": "markdown",
   "id": "fcd38b64",
   "metadata": {},
   "source": [
    "<a id=\"4\"></a>\n",
    "### Задача 3"
   ]
  },
  {
   "cell_type": "markdown",
   "id": "81ac982a",
   "metadata": {},
   "source": [
    "**Посчитайте кол-во магазинов , которые находятся в квадрате координат  (-93,6;-91,6;41;42).**\n",
    "___\n",
    "Необходимо вытащить из столбца *Store Location* пары координат *X* и *Y*, после чего отфильтровать данные по условия задания."
   ]
  },
  {
   "cell_type": "code",
   "execution_count": 12,
   "id": "166907c1",
   "metadata": {},
   "outputs": [],
   "source": [
    "# Внесем данные из условия задачи\n",
    "\n",
    "x1 = -93.6\n",
    "y1 = -91\n",
    "x2 = 41\n",
    "y2 = 42"
   ]
  },
  {
   "cell_type": "code",
   "execution_count": 13,
   "id": "edb72d59",
   "metadata": {},
   "outputs": [],
   "source": [
    "# С помощью регулярный выражений найдем координаты и очистим от слижных символов\n",
    "\n",
    "df['coord'] = df['Store Location'].str.extract(r'(\\([\\ \\-0-9.]*\\))', flags=re.M)\n",
    "df['coord'] = df['coord'].str.strip('()')\n",
    "\n",
    "# Создадим два новых столбца куда поместить полученные координаты, присвоим нужный тип даннных\n",
    "\n",
    "df[['X', 'Y']] = df['coord'].str.split(' ', expand=True)\n",
    "df['X'] = df['X'].astype('float')\n",
    "df['Y'] = df['Y'].astype('float')\n",
    "\n",
    "# Удалим ненужный столбец, запищем в переменную номера магазинов в указанном квадрате\n",
    "\n",
    "df = df.drop(columns='coord')\n",
    "list_store_in_box = list(df.query('(X >= @x1 & X <= @x2) & (Y >= @y1 & Y <= @y2)')['Store Number'].unique())"
   ]
  },
  {
   "cell_type": "code",
   "execution_count": 14,
   "id": "9ceea40f",
   "metadata": {},
   "outputs": [
    {
     "name": "stdout",
     "output_type": "stream",
     "text": [
      "Число магазинов в заданном квадрате: 789\n"
     ]
    }
   ],
   "source": [
    "print( 'Число магазинов в заданном квадрате:', len(list_store_in_box))"
   ]
  },
  {
   "cell_type": "markdown",
   "id": "c676b368",
   "metadata": {},
   "source": [
    "<a id=\"5\"></a>\n",
    "### Задача 4"
   ]
  },
  {
   "cell_type": "markdown",
   "id": "7f7bf1c5",
   "metadata": {},
   "source": [
    "**Посчитайте среднюю наценку (в %) используя поля State Bottle Cost, State Bottle Retail, Bottles Sold по категориям Category Name. Укажите ТОП 5 категорий с наиболее высокой наценкой.**\n",
    "___\n",
    "Создадим сводную таблицу, в качестве индексов будут категории товаров, в качестве значений выберем запрошенные в задание столбцы, агрегирующая функция - вычисление среднего значения."
   ]
  },
  {
   "cell_type": "code",
   "execution_count": 15,
   "id": "32855c61",
   "metadata": {},
   "outputs": [
    {
     "data": {
      "text/html": [
       "<div>\n",
       "<style scoped>\n",
       "    .dataframe tbody tr th:only-of-type {\n",
       "        vertical-align: middle;\n",
       "    }\n",
       "\n",
       "    .dataframe tbody tr th {\n",
       "        vertical-align: top;\n",
       "    }\n",
       "\n",
       "    .dataframe thead th {\n",
       "        text-align: right;\n",
       "    }\n",
       "</style>\n",
       "<table border=\"1\" class=\"dataframe\">\n",
       "  <thead>\n",
       "    <tr style=\"text-align: right;\">\n",
       "      <th></th>\n",
       "      <th>Bottles Sold</th>\n",
       "      <th>State Bottle Cost</th>\n",
       "      <th>State Bottle Retail</th>\n",
       "      <th>percent</th>\n",
       "    </tr>\n",
       "    <tr>\n",
       "      <th>Category Name</th>\n",
       "      <th></th>\n",
       "      <th></th>\n",
       "      <th></th>\n",
       "      <th></th>\n",
       "    </tr>\n",
       "  </thead>\n",
       "  <tbody>\n",
       "    <tr>\n",
       "      <th>barbados rum</th>\n",
       "      <td>5.973156</td>\n",
       "      <td>9.881313</td>\n",
       "      <td>14.939798</td>\n",
       "      <td>51.192440</td>\n",
       "    </tr>\n",
       "    <tr>\n",
       "      <th>american cocktails</th>\n",
       "      <td>7.449495</td>\n",
       "      <td>7.131877</td>\n",
       "      <td>10.766056</td>\n",
       "      <td>50.956841</td>\n",
       "    </tr>\n",
       "    <tr>\n",
       "      <th>vodka flavored</th>\n",
       "      <td>7.344949</td>\n",
       "      <td>7.269588</td>\n",
       "      <td>10.959168</td>\n",
       "      <td>50.753639</td>\n",
       "    </tr>\n",
       "    <tr>\n",
       "      <th>imported amaretto</th>\n",
       "      <td>6.742904</td>\n",
       "      <td>13.221285</td>\n",
       "      <td>19.931515</td>\n",
       "      <td>50.753235</td>\n",
       "    </tr>\n",
       "    <tr>\n",
       "      <th>root beer schnapps</th>\n",
       "      <td>7.177378</td>\n",
       "      <td>6.040386</td>\n",
       "      <td>9.097285</td>\n",
       "      <td>50.607689</td>\n",
       "    </tr>\n",
       "  </tbody>\n",
       "</table>\n",
       "</div>"
      ],
      "text/plain": [
       "                    Bottles Sold  State Bottle Cost  State Bottle Retail  \\\n",
       "Category Name                                                              \n",
       "barbados rum            5.973156           9.881313            14.939798   \n",
       "american cocktails      7.449495           7.131877            10.766056   \n",
       "vodka flavored          7.344949           7.269588            10.959168   \n",
       "imported amaretto       6.742904          13.221285            19.931515   \n",
       "root beer schnapps      7.177378           6.040386             9.097285   \n",
       "\n",
       "                      percent  \n",
       "Category Name                  \n",
       "barbados rum        51.192440  \n",
       "american cocktails  50.956841  \n",
       "vodka flavored      50.753639  \n",
       "imported amaretto   50.753235  \n",
       "root beer schnapps  50.607689  "
      ]
     },
     "execution_count": 15,
     "metadata": {},
     "output_type": "execute_result"
    }
   ],
   "source": [
    "# Создаем сводную таблицу\n",
    "\n",
    "pt = df.pivot_table(index='Category Name', values=['State Bottle Cost', 'State Bottle Retail', 'Bottles Sold'],\n",
    "                    aggfunc='mean')\n",
    "\n",
    "# В сводной таблице создадим новый столбец, в котором рассчитаем наценку в процентах\n",
    "\n",
    "pt['percent'] = (pt['State Bottle Retail'] - pt['State Bottle Cost'])/ pt['State Bottle Cost'] * 100\n",
    "\n",
    "# Выведем на экран 5 категорий с наибольшей наценкой\n",
    "\n",
    "pt.sort_values(by='percent', ascending=False).head(5)"
   ]
  },
  {
   "cell_type": "markdown",
   "id": "c00ecf7c",
   "metadata": {},
   "source": [
    "<a id=\"6\"></a>\n",
    "### Задание 5"
   ]
  },
  {
   "cell_type": "markdown",
   "id": "96e674c1",
   "metadata": {},
   "source": [
    "**В файле address_category содержится набор адресов магазинов и категорий продуктов. Используя эти связки значений уменьшите исходную таблицу, а затем посчитайте сумму продаж столбца Sale (Dollars)**\n",
    "___\n",
    "Загрузим файл и ознакомимся с ним."
   ]
  },
  {
   "cell_type": "code",
   "execution_count": 16,
   "id": "2fa521d4",
   "metadata": {},
   "outputs": [
    {
     "data": {
      "text/html": [
       "<div>\n",
       "<style scoped>\n",
       "    .dataframe tbody tr th:only-of-type {\n",
       "        vertical-align: middle;\n",
       "    }\n",
       "\n",
       "    .dataframe tbody tr th {\n",
       "        vertical-align: top;\n",
       "    }\n",
       "\n",
       "    .dataframe thead th {\n",
       "        text-align: right;\n",
       "    }\n",
       "</style>\n",
       "<table border=\"1\" class=\"dataframe\">\n",
       "  <thead>\n",
       "    <tr style=\"text-align: right;\">\n",
       "      <th></th>\n",
       "      <th>Address</th>\n",
       "      <th>Category Name</th>\n",
       "    </tr>\n",
       "  </thead>\n",
       "  <tbody>\n",
       "    <tr>\n",
       "      <th>0</th>\n",
       "      <td>1, Grove Rd</td>\n",
       "      <td>Blended Whiskies</td>\n",
       "    </tr>\n",
       "    <tr>\n",
       "      <th>1</th>\n",
       "      <td>1, GROVE RD</td>\n",
       "      <td>IRISH WHISKIES</td>\n",
       "    </tr>\n",
       "    <tr>\n",
       "      <th>2</th>\n",
       "      <td>1, Grove Rd</td>\n",
       "      <td>White Rum</td>\n",
       "    </tr>\n",
       "    <tr>\n",
       "      <th>3</th>\n",
       "      <td>10  3rd St NW</td>\n",
       "      <td>TENNESSEE WHISKIES</td>\n",
       "    </tr>\n",
       "    <tr>\n",
       "      <th>4</th>\n",
       "      <td>10 3rd St. NW, Ste B</td>\n",
       "      <td>Imported Vodkas</td>\n",
       "    </tr>\n",
       "  </tbody>\n",
       "</table>\n",
       "</div>"
      ],
      "text/plain": [
       "                Address       Category Name\n",
       "0           1, Grove Rd    Blended Whiskies\n",
       "1           1, GROVE RD      IRISH WHISKIES\n",
       "2           1, Grove Rd           White Rum\n",
       "3         10  3rd St NW  TENNESSEE WHISKIES\n",
       "4  10 3rd St. NW, Ste B     Imported Vodkas"
      ]
     },
     "execution_count": 16,
     "metadata": {},
     "output_type": "execute_result"
    }
   ],
   "source": [
    "df1 = pd.read_csv('address_category.csv', sep=';')\n",
    "df1.head()"
   ]
  },
  {
   "cell_type": "code",
   "execution_count": 17,
   "id": "45f5a488",
   "metadata": {},
   "outputs": [
    {
     "name": "stdout",
     "output_type": "stream",
     "text": [
      "<class 'pandas.core.frame.DataFrame'>\n",
      "RangeIndex: 5622 entries, 0 to 5621\n",
      "Data columns (total 2 columns):\n",
      " #   Column         Non-Null Count  Dtype \n",
      "---  ------         --------------  ----- \n",
      " 0   Address        5622 non-null   object\n",
      " 1   Category Name  5622 non-null   object\n",
      "dtypes: object(2)\n",
      "memory usage: 88.0+ KB\n"
     ]
    }
   ],
   "source": [
    "df1.info()"
   ]
  },
  {
   "cell_type": "markdown",
   "id": "0f5c9df3",
   "metadata": {},
   "source": [
    "Создадим новый признак - \"склеим\" адресс и категорию."
   ]
  },
  {
   "cell_type": "code",
   "execution_count": 18,
   "id": "73792ace",
   "metadata": {},
   "outputs": [
    {
     "data": {
      "text/html": [
       "<div>\n",
       "<style scoped>\n",
       "    .dataframe tbody tr th:only-of-type {\n",
       "        vertical-align: middle;\n",
       "    }\n",
       "\n",
       "    .dataframe tbody tr th {\n",
       "        vertical-align: top;\n",
       "    }\n",
       "\n",
       "    .dataframe thead th {\n",
       "        text-align: right;\n",
       "    }\n",
       "</style>\n",
       "<table border=\"1\" class=\"dataframe\">\n",
       "  <thead>\n",
       "    <tr style=\"text-align: right;\">\n",
       "      <th></th>\n",
       "      <th>Address</th>\n",
       "      <th>Category Name</th>\n",
       "      <th>new_f</th>\n",
       "    </tr>\n",
       "  </thead>\n",
       "  <tbody>\n",
       "    <tr>\n",
       "      <th>0</th>\n",
       "      <td>1, Grove Rd</td>\n",
       "      <td>Blended Whiskies</td>\n",
       "      <td>1, grove rdblended whiskies</td>\n",
       "    </tr>\n",
       "    <tr>\n",
       "      <th>1</th>\n",
       "      <td>1, GROVE RD</td>\n",
       "      <td>IRISH WHISKIES</td>\n",
       "      <td>1, grove rdirish whiskies</td>\n",
       "    </tr>\n",
       "    <tr>\n",
       "      <th>2</th>\n",
       "      <td>1, Grove Rd</td>\n",
       "      <td>White Rum</td>\n",
       "      <td>1, grove rdwhite rum</td>\n",
       "    </tr>\n",
       "    <tr>\n",
       "      <th>3</th>\n",
       "      <td>10  3rd St NW</td>\n",
       "      <td>TENNESSEE WHISKIES</td>\n",
       "      <td>10  3rd st nwtennessee whiskies</td>\n",
       "    </tr>\n",
       "    <tr>\n",
       "      <th>4</th>\n",
       "      <td>10 3rd St. NW, Ste B</td>\n",
       "      <td>Imported Vodkas</td>\n",
       "      <td>10 3rd st. nw, ste bimported vodkas</td>\n",
       "    </tr>\n",
       "  </tbody>\n",
       "</table>\n",
       "</div>"
      ],
      "text/plain": [
       "                Address       Category Name  \\\n",
       "0           1, Grove Rd    Blended Whiskies   \n",
       "1           1, GROVE RD      IRISH WHISKIES   \n",
       "2           1, Grove Rd           White Rum   \n",
       "3         10  3rd St NW  TENNESSEE WHISKIES   \n",
       "4  10 3rd St. NW, Ste B     Imported Vodkas   \n",
       "\n",
       "                                 new_f  \n",
       "0          1, grove rdblended whiskies  \n",
       "1            1, grove rdirish whiskies  \n",
       "2                 1, grove rdwhite rum  \n",
       "3      10  3rd st nwtennessee whiskies  \n",
       "4  10 3rd st. nw, ste bimported vodkas  "
      ]
     },
     "execution_count": 18,
     "metadata": {},
     "output_type": "execute_result"
    }
   ],
   "source": [
    "df1['new_f'] = df1['Address'] + df1['Category Name']\n",
    "df1['new_f'] = df1['new_f'].str.lower()\n",
    "df1.head()"
   ]
  },
  {
   "cell_type": "markdown",
   "id": "51f69da1",
   "metadata": {},
   "source": [
    "В исходном фрейме сделаем такую же склейку."
   ]
  },
  {
   "cell_type": "code",
   "execution_count": 19,
   "id": "f86abacf",
   "metadata": {},
   "outputs": [],
   "source": [
    "df['new_f2'] = df['Address'] + df['Category Name']"
   ]
  },
  {
   "cell_type": "markdown",
   "id": "3990bf56",
   "metadata": {},
   "source": [
    "Теперь, найдем уникальный склейку из второго фрейма и по ним отфильтруем первый фрейм, после чего сложим значение из столбца *Sale (Dollars)*"
   ]
  },
  {
   "cell_type": "code",
   "execution_count": 20,
   "id": "db4fa139",
   "metadata": {},
   "outputs": [],
   "source": [
    "features = df1['new_f'].unique()\n",
    "total_income = df.query('new_f2 in @features')['Sale (Dollars)'].sum()"
   ]
  },
  {
   "cell_type": "markdown",
   "id": "13e3e56f",
   "metadata": {},
   "source": [
    "Выведем на экран ответ на задачу."
   ]
  },
  {
   "cell_type": "code",
   "execution_count": 21,
   "id": "163e7d45",
   "metadata": {},
   "outputs": [
    {
     "name": "stdout",
     "output_type": "stream",
     "text": [
      "Суммарные продажи: 175312930.0\n"
     ]
    }
   ],
   "source": [
    "print('Суммарные продажи:', total_income)"
   ]
  },
  {
   "cell_type": "markdown",
   "id": "04757709",
   "metadata": {},
   "source": [
    "<a id=\"7\"></a>\n",
    "### Задание 6"
   ]
  },
  {
   "cell_type": "markdown",
   "id": "05dcce82",
   "metadata": {},
   "source": [
    "**По тем магазинам (Store Number), где количество Вендоров 20 и более, проставьте приоритет по следующему правилу:**\n",
    "\n",
    "\tа) Приоритет 1 - магазины где больше всего (в долларах) продается Canadian Whiskies\n",
    "\tб) Приоритет 2 - магазины, где больше всего (в долларах) продается бутылка 750 ml\n",
    "\tв) Приоритет 3 - магазины, которые находятся в квадрате из задания 3\n",
    "\tг) Приоритет 4 - остальные магазины\n",
    "    \n",
    "**Сколько всего магазинов каждого приоритета?**\n",
    "___"
   ]
  },
  {
   "cell_type": "code",
   "execution_count": 22,
   "id": "9b7c6625",
   "metadata": {},
   "outputs": [],
   "source": [
    "# Удалим ненужные фреймы данных\n",
    "\n",
    "del df1, pt"
   ]
  },
  {
   "cell_type": "markdown",
   "id": "1a01c67b",
   "metadata": {},
   "source": [
    "Создадим сводную таблицу, в которой для каждого номера магазина вычислим число уникальных вендоров. После чего выберем те номера магазинов где 20 и более уникальных вендоров, по этому списку создадим новый признак у исходного фрейма."
   ]
  },
  {
   "cell_type": "code",
   "execution_count": 23,
   "id": "2845e8e4",
   "metadata": {
    "scrolled": true
   },
   "outputs": [],
   "source": [
    "# Создаем сводную таблицу и из неё получаем нужный список магазинов\n",
    "\n",
    "pv = df.pivot_table(index='Store Number', values='Vendor Number', aggfunc='nunique')\n",
    "list_data = pv.loc[pv['Vendor Number'] >= 20].index\n",
    "list_data = list_data.to_list()\n",
    "\n",
    "# Создаем новый признак у исходного фрейма\n",
    "\n",
    "df['boolen'] = df['Store Number'].isin(list_data)\n",
    "\n",
    "# Создаем новый фрейм, отфильтрованный по созданному признаку\n",
    "\n",
    "df6 = df.loc[df['boolen'] == True]\n",
    "\n",
    "# Удаляем ненужные данные\n",
    "\n",
    "del pv, list_data, df"
   ]
  },
  {
   "cell_type": "markdown",
   "id": "625c7c14",
   "metadata": {},
   "source": [
    "Теперь выполним пункт *a* задания. Создадим сводную таблицу, в которой будут только магазины, торгующие нужной категорией и просуммируем их доход. Отфильтруем таблицу по убыванию."
   ]
  },
  {
   "cell_type": "code",
   "execution_count": 24,
   "id": "ce95b3df",
   "metadata": {},
   "outputs": [
    {
     "data": {
      "text/html": [
       "<div>\n",
       "<style scoped>\n",
       "    .dataframe tbody tr th:only-of-type {\n",
       "        vertical-align: middle;\n",
       "    }\n",
       "\n",
       "    .dataframe tbody tr th {\n",
       "        vertical-align: top;\n",
       "    }\n",
       "\n",
       "    .dataframe thead th {\n",
       "        text-align: right;\n",
       "    }\n",
       "</style>\n",
       "<table border=\"1\" class=\"dataframe\">\n",
       "  <thead>\n",
       "    <tr style=\"text-align: right;\">\n",
       "      <th></th>\n",
       "      <th>Sale (Dollars)</th>\n",
       "    </tr>\n",
       "    <tr>\n",
       "      <th>Store Number</th>\n",
       "      <th></th>\n",
       "    </tr>\n",
       "  </thead>\n",
       "  <tbody>\n",
       "    <tr>\n",
       "      <th>2633</th>\n",
       "      <td>7457858.500</td>\n",
       "    </tr>\n",
       "    <tr>\n",
       "      <th>4829</th>\n",
       "      <td>6235824.500</td>\n",
       "    </tr>\n",
       "    <tr>\n",
       "      <th>3420</th>\n",
       "      <td>3971133.250</td>\n",
       "    </tr>\n",
       "    <tr>\n",
       "      <th>2593</th>\n",
       "      <td>3786987.250</td>\n",
       "    </tr>\n",
       "    <tr>\n",
       "      <th>3385</th>\n",
       "      <td>3551511.000</td>\n",
       "    </tr>\n",
       "    <tr>\n",
       "      <th>3814</th>\n",
       "      <td>3103327.250</td>\n",
       "    </tr>\n",
       "    <tr>\n",
       "      <th>3447</th>\n",
       "      <td>2926004.500</td>\n",
       "    </tr>\n",
       "    <tr>\n",
       "      <th>3524</th>\n",
       "      <td>2449981.000</td>\n",
       "    </tr>\n",
       "    <tr>\n",
       "      <th>3494</th>\n",
       "      <td>2428144.500</td>\n",
       "    </tr>\n",
       "    <tr>\n",
       "      <th>2663</th>\n",
       "      <td>2227194.250</td>\n",
       "    </tr>\n",
       "    <tr>\n",
       "      <th>2512</th>\n",
       "      <td>2121528.250</td>\n",
       "    </tr>\n",
       "    <tr>\n",
       "      <th>3354</th>\n",
       "      <td>2023898.375</td>\n",
       "    </tr>\n",
       "    <tr>\n",
       "      <th>4312</th>\n",
       "      <td>2013958.625</td>\n",
       "    </tr>\n",
       "    <tr>\n",
       "      <th>3952</th>\n",
       "      <td>1957174.250</td>\n",
       "    </tr>\n",
       "    <tr>\n",
       "      <th>2595</th>\n",
       "      <td>1951798.375</td>\n",
       "    </tr>\n",
       "  </tbody>\n",
       "</table>\n",
       "</div>"
      ],
      "text/plain": [
       "              Sale (Dollars)\n",
       "Store Number                \n",
       "2633             7457858.500\n",
       "4829             6235824.500\n",
       "3420             3971133.250\n",
       "2593             3786987.250\n",
       "3385             3551511.000\n",
       "3814             3103327.250\n",
       "3447             2926004.500\n",
       "3524             2449981.000\n",
       "3494             2428144.500\n",
       "2663             2227194.250\n",
       "2512             2121528.250\n",
       "3354             2023898.375\n",
       "4312             2013958.625\n",
       "3952             1957174.250\n",
       "2595             1951798.375"
      ]
     },
     "execution_count": 24,
     "metadata": {},
     "output_type": "execute_result"
    }
   ],
   "source": [
    "pv = (df6.loc[df6['Category Name'] == 'canadian whiskies']\n",
    "    .pivot_table(index='Store Number', values='Sale (Dollars)', aggfunc='sum')\n",
    "    .sort_values(by='Sale (Dollars)', ascending=False))\n",
    "pv.head(15)"
   ]
  },
  {
   "cell_type": "markdown",
   "id": "8201088d",
   "metadata": {},
   "source": [
    "Построим график, на котором можно будет определить, как сильно различаются доходы у магазинов."
   ]
  },
  {
   "cell_type": "code",
   "execution_count": 25,
   "id": "8ca10989",
   "metadata": {},
   "outputs": [
    {
     "data": {
      "text/plain": [
       "<AxesSubplot:title={'center':'Доходы магазинов'}, xlabel='Store Number'>"
      ]
     },
     "execution_count": 25,
     "metadata": {},
     "output_type": "execute_result"
    },
    {
     "data": {
      "image/png": "[encoded data removed]",
      "text/plain": [
       "<Figure size 936x576 with 1 Axes>"
      ]
     },
     "metadata": {
      "needs_background": "light"
     },
     "output_type": "display_data"
    }
   ],
   "source": [
    "pv.head(20).plot(y= 'Sale (Dollars)', kind='bar', title='Доходы магазинов', grid=True, figsize=(13,8))"
   ]
  },
  {
   "cell_type": "markdown",
   "id": "98fd644c",
   "metadata": {},
   "source": [
    "Теперь выполним пункт *б* задания. Создадим сводную таблицу, в которой будут только магазины, торгующие нужной тарой и просуммируем их доход. Отфильтруем таблицу по убыванию."
   ]
  },
  {
   "cell_type": "code",
   "execution_count": 26,
   "id": "b3dfc59e",
   "metadata": {},
   "outputs": [
    {
     "data": {
      "text/html": [
       "<div>\n",
       "<style scoped>\n",
       "    .dataframe tbody tr th:only-of-type {\n",
       "        vertical-align: middle;\n",
       "    }\n",
       "\n",
       "    .dataframe tbody tr th {\n",
       "        vertical-align: top;\n",
       "    }\n",
       "\n",
       "    .dataframe thead th {\n",
       "        text-align: right;\n",
       "    }\n",
       "</style>\n",
       "<table border=\"1\" class=\"dataframe\">\n",
       "  <thead>\n",
       "    <tr style=\"text-align: right;\">\n",
       "      <th></th>\n",
       "      <th>Sale (Dollars)</th>\n",
       "    </tr>\n",
       "    <tr>\n",
       "      <th>Store Number</th>\n",
       "      <th></th>\n",
       "    </tr>\n",
       "  </thead>\n",
       "  <tbody>\n",
       "    <tr>\n",
       "      <th>2633</th>\n",
       "      <td>24659574.0</td>\n",
       "    </tr>\n",
       "    <tr>\n",
       "      <th>4829</th>\n",
       "      <td>22892638.0</td>\n",
       "    </tr>\n",
       "    <tr>\n",
       "      <th>2512</th>\n",
       "      <td>16112299.0</td>\n",
       "    </tr>\n",
       "    <tr>\n",
       "      <th>2663</th>\n",
       "      <td>15493724.0</td>\n",
       "    </tr>\n",
       "    <tr>\n",
       "      <th>2190</th>\n",
       "      <td>11330015.0</td>\n",
       "    </tr>\n",
       "    <tr>\n",
       "      <th>2648</th>\n",
       "      <td>10772680.0</td>\n",
       "    </tr>\n",
       "    <tr>\n",
       "      <th>2665</th>\n",
       "      <td>10572288.0</td>\n",
       "    </tr>\n",
       "    <tr>\n",
       "      <th>2619</th>\n",
       "      <td>10421803.0</td>\n",
       "    </tr>\n",
       "    <tr>\n",
       "      <th>2501</th>\n",
       "      <td>9568021.0</td>\n",
       "    </tr>\n",
       "    <tr>\n",
       "      <th>2502</th>\n",
       "      <td>9448358.0</td>\n",
       "    </tr>\n",
       "    <tr>\n",
       "      <th>2666</th>\n",
       "      <td>8708985.0</td>\n",
       "    </tr>\n",
       "    <tr>\n",
       "      <th>2614</th>\n",
       "      <td>8611131.0</td>\n",
       "    </tr>\n",
       "    <tr>\n",
       "      <th>2603</th>\n",
       "      <td>8502002.0</td>\n",
       "    </tr>\n",
       "    <tr>\n",
       "      <th>2561</th>\n",
       "      <td>8340532.0</td>\n",
       "    </tr>\n",
       "    <tr>\n",
       "      <th>3773</th>\n",
       "      <td>8197338.0</td>\n",
       "    </tr>\n",
       "  </tbody>\n",
       "</table>\n",
       "</div>"
      ],
      "text/plain": [
       "              Sale (Dollars)\n",
       "Store Number                \n",
       "2633              24659574.0\n",
       "4829              22892638.0\n",
       "2512              16112299.0\n",
       "2663              15493724.0\n",
       "2190              11330015.0\n",
       "2648              10772680.0\n",
       "2665              10572288.0\n",
       "2619              10421803.0\n",
       "2501               9568021.0\n",
       "2502               9448358.0\n",
       "2666               8708985.0\n",
       "2614               8611131.0\n",
       "2603               8502002.0\n",
       "2561               8340532.0\n",
       "3773               8197338.0"
      ]
     },
     "execution_count": 26,
     "metadata": {},
     "output_type": "execute_result"
    }
   ],
   "source": [
    "pv2 = (df6.loc[df6['Bottle Volume (ml)'] == 750]\n",
    "    .pivot_table(index='Store Number', values='Sale (Dollars)', aggfunc='sum')\n",
    "    .sort_values(by='Sale (Dollars)', ascending=False))\n",
    "pv2.head(15)"
   ]
  },
  {
   "cell_type": "markdown",
   "id": "16fa1c53",
   "metadata": {},
   "source": [
    "Построим график, на котором можно будет определить, как сильно различаются доходы у магазинов."
   ]
  },
  {
   "cell_type": "code",
   "execution_count": 27,
   "id": "2d7c6b40",
   "metadata": {},
   "outputs": [
    {
     "data": {
      "text/plain": [
       "<AxesSubplot:title={'center':'Доходы магазинов'}, xlabel='Store Number'>"
      ]
     },
     "execution_count": 27,
     "metadata": {},
     "output_type": "execute_result"
    },
    {
     "data": {
      "image/png": "[encoded data removed]",
      "text/plain": [
       "<Figure size 936x576 with 1 Axes>"
      ]
     },
     "metadata": {
      "needs_background": "light"
     },
     "output_type": "display_data"
    }
   ],
   "source": [
    "pv2.head(20).plot(y= 'Sale (Dollars)', kind='bar', title='Доходы магазинов', grid=True, figsize=(13,8))"
   ]
  },
  {
   "cell_type": "markdown",
   "id": "114e7f44",
   "metadata": {},
   "source": [
    "Начнем присваивать приоритеты. Базово, присвоим всем магазинам приоритет **4**."
   ]
  },
  {
   "cell_type": "code",
   "execution_count": 28,
   "id": "fc7d53cc",
   "metadata": {},
   "outputs": [],
   "source": [
    "df6['priority'] = 4"
   ]
  },
  {
   "cell_type": "markdown",
   "id": "6e10e964",
   "metadata": {},
   "source": [
    "Создадим списки с магазинами, которые соответствуют каждому пункту задачи."
   ]
  },
  {
   "cell_type": "code",
   "execution_count": 32,
   "id": "a4f5ff99",
   "metadata": {},
   "outputs": [],
   "source": [
    "list_data_1 = pv.head(1).index.to_list()\n",
    "list_data_2 = pv2.head(2).index.to_list()\n",
    "\n",
    "set_data_1 = set(list_data_1)\n",
    "set_data_2 = set(list_data_2)\n",
    "\n",
    "list_data_2 = list(set_data_2 - (set_data_2 & set_data_1))\n",
    "\n",
    "list_data_3 = list(set(list_store_in_box) & set(df6['Store Number'].to_list()))\n",
    "list_data_3 = list((set(list_data_3) - (set(list_data_3) & set_data_2)) - set_data_1)"
   ]
  },
  {
   "cell_type": "markdown",
   "id": "c31b36ab",
   "metadata": {},
   "source": [
    "Присвоим, в соответствие со списками, приоритеты в рабочем фрейме данных."
   ]
  },
  {
   "cell_type": "code",
   "execution_count": 33,
   "id": "74e5ea1f",
   "metadata": {},
   "outputs": [],
   "source": [
    "df6.loc[df6['Store Number'].isin(list_data_1), 'priority'] = 1\n",
    "df6.loc[df6['Store Number'].isin(list_data_2), 'priority'] = 2\n",
    "df6.loc[df6['Store Number'].isin(list_data_3), 'priority'] = 3"
   ]
  },
  {
   "cell_type": "markdown",
   "id": "ca849f8b",
   "metadata": {},
   "source": [
    "Построим сводную таблицу, в каторой посчитаем количество магазинов с каждым приоритетом."
   ]
  },
  {
   "cell_type": "code",
   "execution_count": 34,
   "id": "d4b690fb",
   "metadata": {},
   "outputs": [
    {
     "data": {
      "text/html": [
       "<div>\n",
       "<style scoped>\n",
       "    .dataframe tbody tr th:only-of-type {\n",
       "        vertical-align: middle;\n",
       "    }\n",
       "\n",
       "    .dataframe tbody tr th {\n",
       "        vertical-align: top;\n",
       "    }\n",
       "\n",
       "    .dataframe thead th {\n",
       "        text-align: right;\n",
       "    }\n",
       "</style>\n",
       "<table border=\"1\" class=\"dataframe\">\n",
       "  <thead>\n",
       "    <tr style=\"text-align: right;\">\n",
       "      <th></th>\n",
       "      <th>Store Number</th>\n",
       "    </tr>\n",
       "    <tr>\n",
       "      <th>priority</th>\n",
       "      <th></th>\n",
       "    </tr>\n",
       "  </thead>\n",
       "  <tbody>\n",
       "    <tr>\n",
       "      <th>1</th>\n",
       "      <td>1</td>\n",
       "    </tr>\n",
       "    <tr>\n",
       "      <th>2</th>\n",
       "      <td>1</td>\n",
       "    </tr>\n",
       "    <tr>\n",
       "      <th>3</th>\n",
       "      <td>734</td>\n",
       "    </tr>\n",
       "    <tr>\n",
       "      <th>4</th>\n",
       "      <td>1703</td>\n",
       "    </tr>\n",
       "  </tbody>\n",
       "</table>\n",
       "</div>"
      ],
      "text/plain": [
       "          Store Number\n",
       "priority              \n",
       "1                    1\n",
       "2                    1\n",
       "3                  734\n",
       "4                 1703"
      ]
     },
     "execution_count": 34,
     "metadata": {},
     "output_type": "execute_result"
    }
   ],
   "source": [
    "df6.pivot_table(index='priority', values='Store Number', aggfunc='nunique')"
   ]
  }
 ],
 "metadata": {
  "kernelspec": {
   "display_name": "Python 3 (ipykernel)",
   "language": "python",
   "name": "python3"
  },
  "language_info": {
   "codemirror_mode": {
    "name": "ipython",
    "version": 3
   },
   "file_extension": ".py",
   "mimetype": "text/x-python",
   "name": "python",
   "nbconvert_exporter": "python",
   "pygments_lexer": "ipython3",
   "version": "3.9.7"
  }
 },
 "nbformat": 4,
 "nbformat_minor": 5
}
